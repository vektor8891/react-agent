{
 "cells": [
  {
   "cell_type": "code",
   "execution_count": 1,
   "id": "89f1914c",
   "metadata": {},
   "outputs": [],
   "source": [
    "import os\n",
    "\n",
    "import vertexai\n",
    "from dotenv import load_dotenv\n",
    "\n",
    "# Load environment variables from .env file\n",
    "load_dotenv()\n",
    "\n",
    "# Initialize Vertex AI with project details from environment variables\n",
    "project_id = os.getenv(\"GOOGLE_CLOUD_PROJECT\")\n",
    "location = os.getenv(\"GOOGLE_CLOUD_LOCATION\")\n",
    "\n",
    "vertexai.init(project=project_id, location=location)"
   ]
  },
  {
   "cell_type": "code",
   "execution_count": 2,
   "id": "a1ff7899",
   "metadata": {},
   "outputs": [],
   "source": [
    "model = \"gemini-2.0-flash\""
   ]
  },
  {
   "cell_type": "code",
   "execution_count": 3,
   "id": "5d0a0f46",
   "metadata": {},
   "outputs": [],
   "source": [
    "from google.genai import Client, types\n",
    "\n",
    "client = Client(vertexai=True, project=project_id, location=location)\n",
    "\n",
    "response = client.models.generate_content(\n",
    "    model=model,\n",
    "    contents=\"Why is the sky blue?\",\n",
    "    config=types.GenerateContentConfig(\n",
    "        tools=[types.Tool(google_search=types.GoogleSearch())]\n",
    "    ),\n",
    ")"
   ]
  },
  {
   "cell_type": "code",
   "execution_count": null,
   "id": "3e55e325",
   "metadata": {},
   "outputs": [
    {
     "data": {
      "text/plain": [
       "\"The sky appears blue due to a phenomenon called Rayleigh scattering. Here's a breakdown:\\n\\n*   **Sunlight and its colors:** Sunlight appears white but is actually composed of all colors of the visible spectrum. Each color has a different wavelength.\\n\\n*   **Scattering of light:** When sunlight enters the Earth's atmosphere, it collides with gas molecules (mostly nitrogen and oxygen) and tiny particles. This causes the light to scatter in different directions.\\n\\n*   **Rayleigh scattering:** Shorter wavelengths, like blue and violet light, are scattered more strongly than longer wavelengths like red and orange. This is because the gas molecules are smaller than the wavelength of visible light.\\n\\n*   **Why blue, not violet?** Violet light is scattered even more than blue light. However, the sky appears blue because:\\n\\n    *   There is less violet light in sunlight to begin with.\\n    *   Our eyes are more sensitive to blue light.\\n\\n*   **The effect:** The abundance of scattered blue light overwhelms the other colors, making the sky appear blue to our eyes.\\n\\nAs the sun sets or rises, the sky turns orange and red because the light has to travel through more of the atmosphere. This means that more of the blue light is scattered away, leaving the longer wavelengths like red and orange to be more visible.\\n\""
      ]
     },
     "execution_count": 4,
     "metadata": {},
     "output_type": "execute_result"
    }
   ],
   "source": [
    "print(response.text"
   ]
  },
  {
   "cell_type": "code",
   "execution_count": 6,
   "id": "2265b217",
   "metadata": {},
   "outputs": [],
   "source": [
    "from langchain_google_vertexai import HarmBlockThreshold, HarmCategory\n",
    "\n",
    "safety_settings = {\n",
    "    HarmCategory.HARM_CATEGORY_UNSPECIFIED: HarmBlockThreshold.BLOCK_NONE,\n",
    "    HarmCategory.HARM_CATEGORY_DANGEROUS_CONTENT: HarmBlockThreshold.BLOCK_MEDIUM_AND_ABOVE,\n",
    "    HarmCategory.HARM_CATEGORY_HATE_SPEECH: HarmBlockThreshold.BLOCK_ONLY_HIGH,\n",
    "    HarmCategory.HARM_CATEGORY_HARASSMENT: HarmBlockThreshold.BLOCK_LOW_AND_ABOVE,\n",
    "    HarmCategory.HARM_CATEGORY_SEXUALLY_EXPLICIT: HarmBlockThreshold.BLOCK_NONE,\n",
    "}"
   ]
  },
  {
   "cell_type": "code",
   "execution_count": 7,
   "id": "c7d31b45",
   "metadata": {},
   "outputs": [],
   "source": [
    "model_kwargs = {\n",
    "    # temperature (float): The sampling temperature controls the degree of\n",
    "    # randomness in token selection.\n",
    "    \"temperature\": 0.28,\n",
    "    # max_output_tokens (int): The token limit determines the maximum amount of\n",
    "    # text output from one prompt.\n",
    "    \"max_output_tokens\": 1000,\n",
    "    # top_p (float): Tokens are selected from most probable to least until\n",
    "    # the sum of their probabilities equals the top-p value.\n",
    "    \"top_p\": 0.95,\n",
    "    # top_k (int): The next token is selected from among the top-k most\n",
    "    # probable tokens. This is not supported by all model versions. See\n",
    "    # https://cloud.google.com/vertex-ai/generative-ai/docs/multimodal/image-understanding#valid_parameter_values\n",
    "    # for details.\n",
    "    \"top_k\": None,\n",
    "    # safety_settings (Dict[HarmCategory, HarmBlockThreshold]): The safety\n",
    "    # settings to use for generating content.\n",
    "    # (you must create your safety settings using the previous step first).\n",
    "    \"safety_settings\": safety_settings,\n",
    "}"
   ]
  },
  {
   "cell_type": "code",
   "execution_count": 8,
   "id": "220b2901",
   "metadata": {},
   "outputs": [],
   "source": [
    "from vertexai import agent_engines\n",
    "\n",
    "agent = agent_engines.LanggraphAgent(\n",
    "    model=model,  # Required.\n",
    "    model_kwargs=model_kwargs,  # Optional.\n",
    ")"
   ]
  },
  {
   "cell_type": "code",
   "execution_count": 9,
   "id": "05640bbf",
   "metadata": {},
   "outputs": [
    {
     "name": "stdout",
     "output_type": "stream",
     "text": [
      "{'messages': [{'lc': 1, 'type': 'constructor', 'id': ['langchain', 'schema', 'messages', 'HumanMessage'], 'kwargs': {'content': 'What is the exchange rate from US dollars to SEK today?', 'type': 'human', 'id': 'b6dabfde-3ad3-4fb0-a9d3-f187e26c6550'}}, {'lc': 1, 'type': 'constructor', 'id': ['langchain', 'schema', 'messages', 'AIMessage'], 'kwargs': {'content': 'I cannot give you the exact, real-time exchange rate. Currency exchange rates fluctuate constantly.\\n\\nHowever, here\\'s how you can find the most up-to-date information:\\n\\n*   **Google:** Search \"USD to SEK\" on Google. It usually provides a current rate.\\n*   **Financial Websites:** Reputable financial websites like Bloomberg, Reuters, or Yahoo Finance will have current exchange rates.\\n*   **Currency Converter Websites:** Websites like XE.com or OANDA.com are dedicated to currency conversion and provide up-to-the-minute rates.\\n\\nWhen you check, be aware that the rate you see is usually an *interbank rate*. The actual rate you get at a bank or exchange service will likely be slightly different due to fees and commissions.', 'response_metadata': {'is_blocked': False, 'safety_ratings': [{'category': 'HARM_CATEGORY_HATE_SPEECH', 'probability_label': 'NEGLIGIBLE', 'probability_score': 5.433819296740694e-06, 'blocked': False, 'severity': 'HARM_SEVERITY_NEGLIGIBLE', 'severity_score': 0.012652695178985596}, {'category': 'HARM_CATEGORY_DANGEROUS_CONTENT', 'probability_label': 'NEGLIGIBLE', 'probability_score': 3.1978017887013266e-06, 'blocked': False, 'severity': 'HARM_SEVERITY_NEGLIGIBLE', 'severity_score': 0.0}, {'category': 'HARM_CATEGORY_HARASSMENT', 'probability_label': 'NEGLIGIBLE', 'probability_score': 1.5657446965633426e-06, 'blocked': False, 'severity': 'HARM_SEVERITY_NEGLIGIBLE', 'severity_score': 0.0}, {'category': 'HARM_CATEGORY_SEXUALLY_EXPLICIT', 'probability_label': 'NEGLIGIBLE', 'probability_score': 1.3209664757596329e-06, 'blocked': False, 'severity': 'HARM_SEVERITY_NEGLIGIBLE', 'severity_score': 0.1406131386756897}], 'usage_metadata': {'prompt_token_count': 12, 'candidates_token_count': 161, 'total_token_count': 173, 'prompt_tokens_details': [{'modality': 1, 'token_count': 12}], 'candidates_tokens_details': [{'modality': 1, 'token_count': 161}], 'thoughts_token_count': 0, 'cached_content_token_count': 0, 'cache_tokens_details': []}, 'finish_reason': 'STOP', 'avg_logprobs': -0.15983976044269824, 'model_name': 'gemini-2.0-flash'}, 'type': 'ai', 'id': 'run--91ef2438-d6cd-4957-8732-f1c6348c93bc-0', 'usage_metadata': {'input_tokens': 12, 'output_tokens': 161, 'total_tokens': 173, 'input_token_details': {'cache_read': 0}}, 'tool_calls': [], 'invalid_tool_calls': []}}]}\n"
     ]
    }
   ],
   "source": [
    "response = agent.query(\n",
    "    input={\n",
    "        \"messages\": [\n",
    "            (\"user\", \"What is the exchange rate from US dollars to SEK today?\"),\n",
    "        ]\n",
    "    }\n",
    ")\n",
    "\n",
    "print(response)"
   ]
  },
  {
   "cell_type": "code",
   "execution_count": null,
   "id": "e9a3a674",
   "metadata": {},
   "outputs": [],
   "source": []
  }
 ],
 "metadata": {
  "kernelspec": {
   "display_name": "react-agent-qhG6BnnD-py3.12",
   "language": "python",
   "name": "python3"
  },
  "language_info": {
   "codemirror_mode": {
    "name": "ipython",
    "version": 3
   },
   "file_extension": ".py",
   "mimetype": "text/x-python",
   "name": "python",
   "nbconvert_exporter": "python",
   "pygments_lexer": "ipython3",
   "version": "3.12.10"
  }
 },
 "nbformat": 4,
 "nbformat_minor": 5
}
